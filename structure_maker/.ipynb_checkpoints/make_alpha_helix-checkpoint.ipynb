{
 "cells": [
  {
   "cell_type": "code",
   "execution_count": 51,
   "id": "e0074af8",
   "metadata": {},
   "outputs": [
    {
     "name": "stdout",
     "output_type": "stream",
     "text": [
      "The autoreload extension is already loaded. To reload it, use:\n",
      "  %reload_ext autoreload\n"
     ]
    }
   ],
   "source": [
    "import autoreload\n",
    "%load_ext autoreload\n",
    "%autoreload 2\n",
    "import helix\n",
    "import MDAnalysis as mda\n",
    "import math\n",
    "import numpy as np\n",
    "from Bio.PDB import Polypeptide"
   ]
  },
  {
   "cell_type": "code",
   "execution_count": 2,
   "id": "4cc03550",
   "metadata": {},
   "outputs": [
    {
     "data": {
      "application/vnd.jupyter.widget-view+json": {
       "model_id": "f108c7e0c92648568639aae1b940bc4e",
       "version_major": 2,
       "version_minor": 0
      },
      "text/plain": []
     },
     "metadata": {},
     "output_type": "display_data"
    }
   ],
   "source": [
    "import nglview as nv\n",
    "import mdtraj as md\n",
    "import numpy as np"
   ]
  },
  {
   "cell_type": "code",
   "execution_count": 44,
   "id": "f0bf947a",
   "metadata": {},
   "outputs": [
    {
     "name": "stderr",
     "output_type": "stream",
     "text": [
      "/project2/andrewferguson/berlaga/conda_env/lib/python3.7/site-packages/ipykernel_launcher.py:4: DeprecationWarning: `np.bool` is a deprecated alias for the builtin `bool`. To silence this warning, use `bool` by itself. Doing this will not modify any behavior and is safe. If you specifically wanted the numpy scalar type, use `np.bool_` here.\n",
      "Deprecated in NumPy 1.20; for more details and guidance: https://numpy.org/devdocs/release/1.20.0-notes.html#deprecations\n",
      "  after removing the cwd from sys.path.\n"
     ]
    }
   ],
   "source": [
    "helix = md.load('helix_short.pdb')\n",
    "backbone_indices = np.array(list(helix.topology.select('not residue 0 and not residue 1 and backbone')))\n",
    "table, bonds = helix.topology.to_dataframe()\n",
    "onswitch = np.zeros(len(table), dtype=np.bool)\n",
    "onswitch[backbone_indices] = 1\n",
    "new_table = table[onswitch].reset_index()\n",
    "new_table['index'] = np.arange(len(new_table))\n",
    "new_table['serial'] = 1 + np.arange(len(new_table))\n",
    "new_top = md.Topology.from_dataframe(new_table)\n",
    "new_traj = md.Trajectory(helix.xyz[0, onswitch], new_top)\n",
    "new_traj.save_pdb(\"backbone.pdb\")\n",
    "# new_table = table[backbone_indices]\n",
    "# new_top = topology.from_dataframe(table)\n",
    "# create an nglview object and add the trajectory to it'\n",
    "# display the view\n"
   ]
  },
  {
   "cell_type": "code",
   "execution_count": 96,
   "id": "1a4bd503",
   "metadata": {},
   "outputs": [
    {
     "name": "stdout",
     "output_type": "stream",
     "text": [
      "[Bond(TRP2-CA, TRP2-C), Bond(TRP2-C, TRP2-O), Bond(TRP2-N, TRP2-CA), Bond(TRP2-N, TRP2-H), Bond(TRP2-C, GLU3-N), Bond(GLU3-CA, GLU3-C), Bond(GLU3-C, GLU3-O), Bond(GLU3-N, GLU3-CA), Bond(GLU3-N, GLU3-H), Bond(GLU3-C, ALA4-N), Bond(ALA4-CA, ALA4-C), Bond(ALA4-C, ALA4-O), Bond(ALA4-N, ALA4-CA), Bond(ALA4-N, ALA4-H), Bond(ALA4-C, LEU5-N), Bond(LEU5-CA, LEU5-C), Bond(LEU5-C, LEU5-O), Bond(LEU5-N, LEU5-CA), Bond(LEU5-N, LEU5-H), Bond(LEU5-C, GLU6-N), Bond(GLU6-CA, GLU6-C), Bond(GLU6-C, GLU6-O), Bond(GLU6-N, GLU6-CA), Bond(GLU6-N, GLU6-H), Bond(GLU6-C, LYS7-N), Bond(LYS7-CA, LYS7-C), Bond(LYS7-C, LYS7-O), Bond(LYS7-N, LYS7-CA), Bond(LYS7-N, LYS7-H), Bond(LYS7-C, LYS8-N), Bond(LYS8-CA, LYS8-C), Bond(LYS8-C, LYS8-O), Bond(LYS8-N, LYS8-CA), Bond(LYS8-N, LYS8-H), Bond(LYS8-C, LEU9-N), Bond(LEU9-CA, LEU9-C), Bond(LEU9-C, LEU9-O), Bond(LEU9-N, LEU9-CA), Bond(LEU9-N, LEU9-H), Bond(LEU9-C, ALA10-N), Bond(ALA10-CA, ALA10-C), Bond(ALA10-C, ALA10-O), Bond(ALA10-N, ALA10-CA), Bond(ALA10-N, ALA10-H), Bond(ALA10-C, ALA11-N), Bond(ALA11-CA, ALA11-C), Bond(ALA11-C, ALA11-O), Bond(ALA11-N, ALA11-CA), Bond(ALA11-N, ALA11-H), Bond(ALA11-C, LEU12-N), Bond(LEU12-CA, LEU12-C), Bond(LEU12-C, LEU12-O), Bond(LEU12-N, LEU12-CA), Bond(LEU12-N, LEU12-H), Bond(LEU12-C, GLU13-N), Bond(GLU13-CA, GLU13-C), Bond(GLU13-C, GLU13-O), Bond(GLU13-N, GLU13-CA), Bond(GLU13-N, GLU13-H), Bond(GLU13-C, SER14-N), Bond(SER14-CA, SER14-C), Bond(SER14-C, SER14-O), Bond(SER14-N, SER14-CA), Bond(SER14-N, SER14-H), Bond(SER14-C, LYS15-N), Bond(LYS15-CA, LYS15-C), Bond(LYS15-C, LYS15-O), Bond(LYS15-N, LYS15-CA), Bond(LYS15-N, LYS15-H), Bond(LYS15-C, LEU16-N), Bond(LEU16-CA, LEU16-C), Bond(LEU16-C, LEU16-O), Bond(LEU16-N, LEU16-CA), Bond(LEU16-N, LEU16-H), Bond(LEU16-C, GLN17-N), Bond(GLN17-CA, GLN17-C), Bond(GLN17-C, GLN17-O), Bond(GLN17-N, GLN17-CA), Bond(GLN17-N, GLN17-H), Bond(GLN17-C, ALA18-N), Bond(ALA18-CA, ALA18-C), Bond(ALA18-C, ALA18-O), Bond(ALA18-N, ALA18-CA), Bond(ALA18-N, ALA18-H), Bond(ALA18-C, LEU19-N), Bond(LEU19-CA, LEU19-C), Bond(LEU19-C, LEU19-O), Bond(LEU19-N, LEU19-CA), Bond(LEU19-N, LEU19-H), Bond(LEU19-C, GLU20-N), Bond(GLU20-CA, GLU20-C), Bond(GLU20-C, GLU20-O), Bond(GLU20-N, GLU20-CA), Bond(GLU20-N, GLU20-H)]\n",
      "[[ 0.08   -2.8015  2.5074]\n",
      " [ 0.0045 -2.7649  2.3874]\n",
      " [-0.0264 -2.6184  2.3771]\n",
      " [-0.0183 -2.5585  2.271 ]\n",
      " [ 0.0264 -2.7761  2.5904]\n",
      " [-0.0412 -2.5566  2.492 ]\n",
      " [-0.052  -2.414   2.4981]\n",
      " [ 0.0818 -2.3572  2.4744]\n",
      " [ 0.0965 -2.2425  2.4381]\n",
      " [-0.0449 -2.6091  2.5752]\n",
      " [ 0.1815 -2.4268  2.5213]\n",
      " [ 0.3113 -2.3651  2.5038]\n",
      " [ 0.3406 -2.3533  2.3572]\n",
      " [ 0.3888 -2.2498  2.3127]\n",
      " [ 0.1695 -2.5142  2.565 ]\n",
      " [ 0.3054 -2.4583  2.2815]\n",
      " [ 0.3257 -2.4589  2.1351]\n",
      " [ 0.2548 -2.3421  2.0659]\n",
      " [ 0.3079 -2.2778  1.9739]\n",
      " [ 0.265  -2.537   2.3246]\n",
      " [ 0.1317 -2.3179  2.1118]\n",
      " [ 0.0498 -2.2073  2.0684]\n",
      " [ 0.1144 -2.0737  2.092 ]\n",
      " [ 0.0913 -1.983   2.012 ]\n",
      " [ 0.0946 -2.3792  2.1793]\n",
      " [ 0.1898 -2.0573  2.2015]\n",
      " [ 0.249  -1.926   2.225 ]\n",
      " [ 0.377  -1.9108  2.1454]\n",
      " [ 0.4197 -1.804   2.1014]\n",
      " [ 0.2048 -2.1316  2.2643]\n",
      " [ 0.4462 -2.0219  2.1334]\n",
      " [ 0.5627 -2.015   2.0535]\n",
      " [ 0.5206 -1.9801  1.9088]\n",
      " [ 0.5854 -1.8962  1.8448]\n",
      " [ 0.4185 -2.1054  2.1776]\n",
      " [ 0.4044 -2.0299  1.8585]\n",
      " [ 0.3579 -1.9918  1.7215]\n",
      " [ 0.324  -1.8416  1.7008]\n",
      " [ 0.365  -1.7763  1.6079]\n",
      " [ 0.3503 -2.0917  1.9128]\n",
      " [ 0.2533 -1.7833  1.7932]\n",
      " [ 0.2149 -1.644   1.7876]\n",
      " [ 0.336  -1.5591  1.7899]\n",
      " [ 0.338  -1.4526  1.7316]\n",
      " [ 0.2245 -1.8367  1.8708]\n",
      " [ 0.4286 -1.5976  1.8727]\n",
      " [ 0.5525 -1.5222  1.8778]\n",
      " [ 0.64   -1.5298  1.7467]\n",
      " [ 0.7135 -1.4371  1.7133]\n",
      " [ 0.415  -1.6761  1.9306]\n",
      " [ 0.6416 -1.6415  1.672 ]\n",
      " [ 0.7146 -1.6438  1.5453]\n",
      " [ 0.6355 -1.5717  1.4333]\n",
      " [ 0.6931 -1.4895  1.3675]\n",
      " [ 0.5936 -1.7218  1.7026]\n",
      " [ 0.5011 -1.582   1.4282]\n",
      " [ 0.4124 -1.5005  1.3446]\n",
      " [ 0.4331 -1.3511  1.3642]\n",
      " [ 0.4328 -1.2662  1.2741]\n",
      " [ 0.459  -1.6501  1.4855]\n",
      " [ 0.4261 -1.3155  1.4897]\n",
      " [ 0.4396 -1.1785  1.5252]\n",
      " [ 0.5693 -1.1251  1.4792]\n",
      " [ 0.5765 -1.007   1.4457]\n",
      " [ 0.4115 -1.3834  1.5595]\n",
      " [ 0.6721 -1.2086  1.4926]\n",
      " [ 0.8078 -1.1693  1.4574]\n",
      " [ 0.8345 -1.1618  1.3068]\n",
      " [ 0.8963 -1.0655  1.258 ]\n",
      " [ 0.6559 -1.2993  1.5272]\n",
      " [ 0.7748 -1.2569  1.2348]\n",
      " [ 0.7734 -1.2579  1.0912]\n",
      " [ 0.7142 -1.1265  1.0388]\n",
      " [ 0.7579 -1.068   0.9386]\n",
      " [ 0.7294 -1.3301  1.2825]\n",
      " [ 0.6103 -1.082   1.1055]\n",
      " [ 0.5432 -0.9627  1.0657]\n",
      " [ 0.6213 -0.8373  1.0988]\n",
      " [ 0.6094 -0.7328  1.0337]\n",
      " [ 0.5782 -1.1317  1.1842]\n",
      " [ 0.7004 -0.8463  1.2043]\n",
      " [ 0.7845 -0.7329  1.2371]\n",
      " [ 0.9049 -0.7291  1.1412]\n",
      " [ 0.9487 -0.6239  1.096 ]\n",
      " [ 0.7022 -0.928   1.2592]\n",
      " [ 0.9525 -0.8444  1.1002]\n",
      " [ 1.0568 -0.8446  0.9999]\n",
      " [ 1.0103 -0.779   0.8712]\n",
      " [ 1.0926 -0.7194  0.8029]\n",
      " [ 0.9179 -0.929   1.1369]\n",
      " [ 0.8806 -0.7938  0.8369]\n",
      " [ 0.8238 -0.745   0.7099]\n",
      " [ 0.8138 -0.5956  0.7054]\n",
      " [ 0.8485 -0.5297  0.6074]\n",
      " [ 0.8864 -0.7777  0.6295]]\n"
     ]
    },
    {
     "name": "stderr",
     "output_type": "stream",
     "text": [
      "/project2/andrewferguson/berlaga/conda_env/lib/python3.7/site-packages/ipykernel_launcher.py:6: DeprecationWarning: `np.bool` is a deprecated alias for the builtin `bool`. To silence this warning, use `bool` by itself. Doing this will not modify any behavior and is safe. If you specifically wanted the numpy scalar type, use `np.bool_` here.\n",
      "Deprecated in NumPy 1.20; for more details and guidance: https://numpy.org/devdocs/release/1.20.0-notes.html#deprecations\n",
      "  \n"
     ]
    }
   ],
   "source": [
    "backbone_h = md.load('backbone_h.pdb')\n",
    "table, bonds = backbone_h.topology.to_dataframe()\n",
    "hydrogens = backbone_h.topology.select(\"element H\")\n",
    "nitrogens = backbone_h.topology.select(\"element N\")\n",
    "\n",
    "onswitch = np.zeros(len(table), dtype=np.bool)\n",
    "print([bond for bond in backbone_h.topology.bonds])\n",
    "for bond in backbone_h.topology.bonds:\n",
    "    if bond[1].index in hydrogens:\n",
    "        if bond[0].index in nitrogens:\n",
    "            onswitch[bond[1].index - 2] = 1\n",
    "backbone_indices = np.array(list(backbone_h.topology.select('backbone')))\n",
    "onswitch[backbone_indices] = 1\n",
    "new_table = table[onswitch].reset_index()\n",
    "new_table['serial'] = 1+np.arange(len(new_table))\n",
    "init = np.arange(len(table))[onswitch]\n",
    "convert = dict(zip(init, np.arange(len(new_table))))\n",
    "\n",
    "new_top = md.Topology.from_dataframe(new_table)\n",
    "atoms = [atom for atom in new_top.atoms]\n",
    "# for b in final_bonds:\n",
    "#     new_top.add_bond(atoms[b[0]], atoms[b[1]])\n",
    "print(backbone_h.xyz[0, onswitch])\n",
    "new_traj = md.Trajectory(backbone_h.xyz[0, onswitch], new_top)\n",
    "new_traj.save_pdb(\"backbone_hn.pdb\")"
   ]
  },
  {
   "cell_type": "code",
   "execution_count": 129,
   "id": "7967a4c9",
   "metadata": {},
   "outputs": [
    {
     "name": "stdout",
     "output_type": "stream",
     "text": [
      "19\n"
     ]
    }
   ],
   "source": [
    "template = md.load('backbone.pdb')\n",
    "print(template.topology.n_residues)\n",
    "# table, bonds = template.topology.to_dataframe()\n",
    "# table['resName'] = \"UNK\"\n",
    "# table['resSeq'] -= 1\n",
    "# top = md.Topology.from_dataframe(table, bonds)\n",
    "# template.topology = top\n",
    "# template.save_pdb('backbone.pdb')"
   ]
  },
  {
   "cell_type": "code",
   "execution_count": 7,
   "id": "8deb62a1",
   "metadata": {},
   "outputs": [
    {
     "data": {
      "application/vnd.jupyter.widget-view+json": {
       "model_id": "34348ec1151e4672981b8630378cff7c",
       "version_major": 2,
       "version_minor": 0
      },
      "text/plain": [
       "NGLWidget()"
      ]
     },
     "metadata": {},
     "output_type": "display_data"
    }
   ],
   "source": [
    "view = nv.show_file('molecule.pdb')\n",
    "# view.clear()\n",
    "view.add_ball_and_stick()\n",
    "view"
   ]
  },
  {
   "cell_type": "code",
   "execution_count": 16,
   "id": "7bd5a358",
   "metadata": {},
   "outputs": [],
   "source": [
    "traj = md.load('backbone_h.pdb')\n",
    "table, bonds = traj.topology.to_dataframe()\n",
    "top = md.Topology.from_dataframe(table, bonds)\n",
    "table2, bonds2 = top.to_dataframe()\n",
    "traj2 = md.Trajectory(traj.xyz[0, table2['serial'].to_numpy() - 1], top)\n",
    "traj2.save_pdb('backbone_h.pdb')"
   ]
  },
  {
   "cell_type": "code",
   "execution_count": null,
   "id": "93a5ccb7",
   "metadata": {},
   "outputs": [],
   "source": []
  }
 ],
 "metadata": {
  "kernelspec": {
   "display_name": "Python 3",
   "language": "python",
   "name": "python3"
  },
  "language_info": {
   "codemirror_mode": {
    "name": "ipython",
    "version": 3
   },
   "file_extension": ".py",
   "mimetype": "text/x-python",
   "name": "python",
   "nbconvert_exporter": "python",
   "pygments_lexer": "ipython3",
   "version": "3.7.9"
  }
 },
 "nbformat": 4,
 "nbformat_minor": 5
}
