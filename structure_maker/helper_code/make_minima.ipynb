{
 "cells": [
  {
   "cell_type": "code",
   "execution_count": 1,
   "id": "6cdcba27",
   "metadata": {},
   "outputs": [
    {
     "data": {
      "application/vnd.jupyter.widget-view+json": {
       "model_id": "",
       "version_major": 2,
       "version_minor": 0
      },
      "text/plain": []
     },
     "metadata": {},
     "output_type": "display_data"
    }
   ],
   "source": [
    "from Bio.PDB.PDBParser import PDBParser\n",
    "from Bio.PDB.Chain import Chain\n",
    "from Bio.PDB.internal_coords import *\n",
    "from Bio.PDB.ic_rebuild import write_PDB, IC_duplicate, structure_rebuild_test\n",
    "from Bio.PDB.SCADIO import write_SCAD\n",
    "from Bio.Seq import Seq\n",
    "from Bio.SeqRecord import SeqRecord\n",
    "from Bio.PDB.PDBIO import PDBIO\n",
    "from Bio.SVDSuperimposer import SVDSuperimposer\n",
    "import numpy as np\n",
    "import mdtraj as md\n",
    "import nglview as nv"
   ]
  },
  {
   "cell_type": "code",
   "execution_count": 3,
   "id": "943e261f",
   "metadata": {
    "scrolled": true
   },
   "outputs": [],
   "source": [
    "parser = PDBParser()\n",
    "files = ['alphaD_minus_cis.pdb',\n",
    "    'alphaD_plus_cis.pdb',\n",
    "    'alpha_minus_cis.pdb',\n",
    "    'alpha_plus_cis.pdb',\n",
    "    'c7beta_minus_cis.pdb',\n",
    "    'c7beta_plus_cis.pdb',\n",
    "    'alphaD_minus_trans.pdb',\n",
    "    'alphaD_plus_trans.pdb',\n",
    "    'alpha_minus_trans.pdb',\n",
    "    'alpha_plus_trans.pdb',\n",
    "    'c7beta_minus_trans.pdb',\n",
    "    'c7beta_plus_trans.pdb'\n",
    "]\n",
    "\n",
    "angles = np.array([[-82, 82, -61, 63, -135, 128, -82, 83, -59, 59, -82, 105],\n",
    "                 [175, -176, -50, 49, 74, -71, 174, -177, -64, 64, 80, -185],\n",
    "                 [0, 0, -11, 11, -3, 2, 180, -180, 176, -177, -177, 178]])\n",
    "\n",
    "multipliers = np.array([])\n",
    "angle_dict = {\"phi\": angles[0], \"psi\": angles[1], \"omega\": angles[2]}\n",
    "\n",
    "\n",
    "\n",
    " # superpose on fixed reference\n",
    "sup = SVDSuperimposer()\n",
    "# sup.set(Ca_triplet_ref, Ca_triplet_xyz)\n",
    "# sup.run()\n",
    "# rms = sup.get_rms()\n",
    "# rot, tran = sup.get_rotran()\n",
    "\n",
    "# translate xyz only then full coords\n",
    "# crd_on_ref = dot(crd, rot) + tran\n",
    "\n",
    "for j in range(len(files)):\n",
    "    filename = \"minima_pdb/\" + files[j]\n",
    "    backbone = parser.get_structure(\"backbone\", \"backbone_pdb/gly_backbone.pdb\")\n",
    "    bkb_chain = backbone[0][\"A\"]\n",
    "    residues = [res for res in bkb_chain.get_residues()]\n",
    "    bkb_chain.atom_to_internal_coordinates(verbose=True)\n",
    "\n",
    "    for i in range(len(residues) - 1):\n",
    "\n",
    "        r = residues[i]\n",
    "\n",
    "\n",
    "        if r.internal_coord.get_angle(\"phi\") is not None:\n",
    "            r.internal_coord.set_angle(\"phi\", angle_dict[\"phi\"][j])\n",
    "        if r.internal_coord.get_angle(\"psi\") is not None:\n",
    "            r.internal_coord.set_angle(\"psi\", angle_dict[\"psi\"][j])\n",
    "        if r.internal_coord.get_angle(\"omega\") is not None:\n",
    "            r.internal_coord.set_angle(\"omega\", angle_dict[\"omega\"][j])\n",
    "\n",
    "\n",
    "#         atoms = [atom for atom in r.get_atoms()]\n",
    "#         atoms_plus = [atom for atom in r_plus.get_atoms()]\n",
    "#         atoms2 = [atom for atom in r2.get_atoms()]\n",
    "#         atoms2_plus = [atom for atom in r2_plus.get_atoms()]\n",
    "\n",
    "    bkb_chain.internal_to_atom_coordinates()\n",
    "\n",
    "#     traj = md.load_pdb(filename)\n",
    "#     top = traj.topology\n",
    "#     residues = [res for res in top.residues]\n",
    "    for i in range(len(residues) -1):\n",
    "        r = residues[i]\n",
    "        r_plus = residues[i+1]\n",
    "        gly2 = parser.get_structure(\"glycylglycine\", \"GLY2.pdb\")\n",
    "        gchain = gly2[0][\"A\"]\n",
    "        gres = [res for res in gchain.get_residues()][0]\n",
    "        moving_coords = [atom.coord for atom in gres.get_atoms()]\n",
    "        if filename == \"minima_pdb/alpha_minus_trans.pdb\":\n",
    "            gly_moving = np.array(moving_coords)[[1, 5, 2]]\n",
    "            ca_c_coord = np.array([atom.coord for atom in r.get_atoms()])[[2]]\n",
    "            n_ca_coord = np.array([atom.coord for atom in r_plus.get_atoms()])[[0, 1]]\n",
    "        elif \"trans\" in filename:\n",
    "            gly_moving = np.array(moving_coords)[[0, 1, 5, 2]]\n",
    "            ca_c_coord = np.array([atom.coord for atom in r.get_atoms()])[[1, 2]]\n",
    "            n_ca_coord = np.array([atom.coord for atom in r_plus.get_atoms()])[[0, 1]]\n",
    "        else:\n",
    "            ca_c_coord = np.array([atom.coord for atom in r.get_atoms()])[[1, 2]]\n",
    "            n_ca_coord = np.array([atom.coord for atom in r_plus.get_atoms()])[[0]]\n",
    "            gly_moving = np.array(moving_coords)[[0, 1, 5]]\n",
    "        fixed = np.concatenate((ca_c_coord, n_ca_coord))\n",
    "        sup.set(fixed, gly_moving)\n",
    "        sup.run()\n",
    "        rms = sup.get_rms()\n",
    "#         if rms > 0.05:\n",
    "#             print(filename + \": \" + str(rms))\n",
    "        rot, tran = sup.get_rotran()\n",
    "        r_atoms = [atom for atom in r.get_atoms()]\n",
    "        gly_atoms = [atom for atom in gres.get_atoms()]\n",
    "        r_atoms[3].coord = np.dot(gly_atoms[6].coord, rot) + tran\n",
    "        \n",
    "#         if filename == \"minima_pdb/alpha_plus_trans.pdb\":\n",
    "#             idxs = [int(k) for k in correct_indices]\n",
    "#             print(np.array([atom for atom in top.atoms])[idxs])\n",
    "#             print(np.array([atom for atom in gly2.topology.atoms])[[0, 1, 5]])\n",
    "#             print(np.array([atom for atom in top.atoms])[indices[3]])\n",
    "#         gly2.superpose(traj, atom_indices = [0, 1, 5, 2], ref_atom_indices=correct_indices)\n",
    "#         if np.linalg.norm(gly2.xyz[0, 0] - traj.xyz[0, correct_indices[0]]) > 0.1:\n",
    "#             print(\"here\")\n",
    "#             gly2 = md.load_pdb(\"GLY2.pdb\")\n",
    "#             gly2.superpose(traj, atom_indices = [4, 0, 1], ref_atom_indices=indices[0:3])\n",
    "\n",
    "#         traj.xyz[0, indices[3]] = gly2.xyz[0, 6]\n",
    "        \n",
    "\n",
    "#         if filename == \"minima_pdb/alpha_plus_trans.pdb\":\n",
    "#             print(np.linalg.norm(gly2.xyz[0, 0] - traj.xyz[0, correct_indices[0]]))\n",
    "#             print(np.linalg.norm(gly2.xyz[0, 6] - gly2.xyz[0, 5]))\n",
    "    write_PDB(backbone, filename)\n"
   ]
  },
  {
   "cell_type": "code",
   "execution_count": 295,
   "id": "75bda507",
   "metadata": {
    "scrolled": true
   },
   "outputs": [
    {
     "data": {
      "application/vnd.jupyter.widget-view+json": {
       "model_id": "a663dd3dc8224b509ff02c6985eec740",
       "version_major": 2,
       "version_minor": 0
      },
      "text/plain": [
       "NGLWidget()"
      ]
     },
     "metadata": {},
     "output_type": "display_data"
    }
   ],
   "source": [
    "view = nv.show_file(\"minima_pdb/alpha_plus_cis.pdb\")\n",
    "view.clear()\n",
    "view.add_ball_and_stick()\n",
    "view"
   ]
  },
  {
   "cell_type": "code",
   "execution_count": 306,
   "id": "ff58c335",
   "metadata": {},
   "outputs": [
    {
     "data": {
      "application/vnd.jupyter.widget-view+json": {
       "model_id": "b3c6cd082f744d09a8d407152d19cbf6",
       "version_major": 2,
       "version_minor": 0
      },
      "text/plain": [
       "NGLWidget()"
      ]
     },
     "metadata": {},
     "output_type": "display_data"
    }
   ],
   "source": [
    "nv.show_file(\"GLY2.pdb\")"
   ]
  },
  {
   "cell_type": "code",
   "execution_count": 21,
   "id": "7d9d0b41",
   "metadata": {
    "scrolled": true
   },
   "outputs": [
    {
     "data": {
      "application/vnd.jupyter.widget-view+json": {
       "model_id": "49b2a63d47ca41ba880d5c9f139f7855",
       "version_major": 2,
       "version_minor": 0
      },
      "text/plain": [
       "NGLWidget()"
      ]
     },
     "metadata": {},
     "output_type": "display_data"
    }
   ],
   "source": [
    "import nglview as nv\n",
    "parser = PDBParser()\n",
    "backbone = parser.get_structure(\"backbone\", \"backbone_pdb/gly_backbone.pdb\")\n",
    "bkb_chain = backbone[0][\"A\"]\n",
    "view = nv.show_biopython(bkb_chain)\n",
    "view.clear()\n",
    "view.add_ball_and_stick()\n",
    "view\n",
    "# bkb_chain.internal_coord.hedra"
   ]
  },
  {
   "cell_type": "code",
   "execution_count": 29,
   "id": "da68292f",
   "metadata": {},
   "outputs": [
    {
     "data": {
      "application/vnd.jupyter.widget-view+json": {
       "model_id": "e98a413777454f24af1ed786cd00f267",
       "version_major": 2,
       "version_minor": 0
      },
      "text/plain": [
       "NGLWidget()"
      ]
     },
     "metadata": {},
     "output_type": "display_data"
    }
   ],
   "source": [
    "import nglview as nv\n",
    "view = nv.show_file(\"c7beta_plus_cis_hn.pdb\")\n",
    "# view.clear()\n",
    "# view.add_ball_and_stick()\n",
    "view"
   ]
  },
  {
   "cell_type": "code",
   "execution_count": 483,
   "id": "f6ca6381",
   "metadata": {},
   "outputs": [
    {
     "name": "stdout",
     "output_type": "stream",
     "text": [
      "minima_pdb/alphaD_plus_trans_h.pdb: [0.0264, -2.7761, 2.590], \n",
      "minima_pdb/alpha_plus_trans_h.pdb: [0.0264, -2.7761, 2.590], \n",
      "minima_pdb/c7beta_minus_trans_h.pdb: [0.0264, -2.7761, 2.590], \n",
      "minima_pdb/alpha_plus_cis_h.pdb: [0.0264, -2.7761, 2.590], \n",
      "minima_pdb/c7beta_plus_trans_h.pdb: [0.0264, -2.7761, 2.590], \n",
      "minima_pdb/alphaD_plus_cis_h.pdb: [0.0264, -2.7761, 2.590], \n",
      "minima_pdb/alpha_minus_cis_h.pdb: [0.0264, -2.7761, 2.590], \n",
      "minima_pdb/alphaD_minus_trans_h.pdb: [0.0264, -2.7761, 2.590], \n",
      "minima_pdb/c7beta_plus_cis_h.pdb: [0.0264, -2.7761, 2.590], \n",
      "minima_pdb/c7beta_minus_cis_h.pdb: [0.0264, -2.7761, 2.590], \n",
      "minima_pdb/alphaD_minus_cis_h.pdb: [0.0264, -2.7761, 2.590], \n",
      "minima_pdb/alpha_minus_trans_h.pdb: [0.0264, -2.7761, 2.590], \n"
     ]
    }
   ],
   "source": [
    "import os\n",
    "import subprocess\n",
    "import mdtraj as md\n",
    "directory = \"minima_pdb/\"\n",
    "for filename in os.listdir(directory):    molecule.save_pdb(file2)\n",
    "\n",
    "    f = os.path.join(directory, filename)\n",
    "    # checking if it is a file\n",
    "    strf = str(f)\n",
    "    if \"_h.pdb\" in strf:\n",
    "        traj = md.load(strf)\n",
    "        top = traj.topology\n",
    "#         onswitch = np.zeros(top.n_atoms, dtype=np.bool_)\n",
    "#         backbone_indices = top.select('backbone')\n",
    "#         onswitch[[76, 80, 83, 86, 89, 92, 95, 98, 101, 104, 107, 110, 113, 116, 119, 122, 125, 128, 131]] = 1\n",
    "#         onswitch[backbone_indices] = 1\n",
    "#         for i in range(top.n_atoms - 1, -1, -1):\n",
    "#             if not onswitch[i]:\n",
    "#                 top.delete_atom_by_index(i)\n",
    "#         new_traj = md.Trajectory(traj.xyz[0, onswitch], top)\n",
    "#         new_traj.save_pdb(strf.replace(\"_h\", \"_nh\")\n",
    "        print(strf + \": [\" + \", \".join([str(i) for i in traj.xyz[0, 77]])[:-1] + \"], \")"
   ]
  },
  {
   "cell_type": "code",
   "execution_count": 486,
   "id": "c4f03694",
   "metadata": {},
   "outputs": [
    {
     "data": {
      "application/vnd.jupyter.widget-view+json": {
       "model_id": "2eb25f3c6cc4486fb47d3109aadd32e4",
       "version_major": 2,
       "version_minor": 0
      },
      "text/plain": [
       "NGLWidget()"
      ]
     },
     "metadata": {},
     "output_type": "display_data"
    }
   ],
   "source": [
    "import nglview as nv\n",
    "view = nv.show_file(\"minima_pdb/alpha_plus_cis_h.pdb\")\n",
    "view.clear()\n",
    "view.add_ball_and_stick()\n",
    "view"
   ]
  },
  {
   "cell_type": "code",
   "execution_count": 8,
   "id": "8d46ab63",
   "metadata": {},
   "outputs": [
    {
     "data": {
      "application/vnd.jupyter.widget-view+json": {
       "model_id": "71bfefe004aa46cc8750666a8e4a00a7",
       "version_major": 2,
       "version_minor": 0
      },
      "text/plain": [
       "NGLWidget()"
      ]
     },
     "metadata": {},
     "output_type": "display_data"
    }
   ],
   "source": [
    "view = nv.show_file(\"molecule.pdb\")\n",
    "view.clear()\n",
    "view.add_ball_and_stick()\n",
    "view"
   ]
  },
  {
   "cell_type": "code",
   "execution_count": 2,
   "id": "e77f94a6",
   "metadata": {},
   "outputs": [
    {
     "data": {
      "application/vnd.jupyter.widget-view+json": {
       "model_id": "828d64c1803148d6bf082414b5a4904d",
       "version_major": 2,
       "version_minor": 0
      },
      "text/plain": [
       "NGLWidget()"
      ]
     },
     "metadata": {},
     "output_type": "display_data"
    }
   ],
   "source": [
    "nv.show_file('molecule.pdb')"
   ]
  },
  {
   "cell_type": "code",
   "execution_count": null,
   "id": "24d945b2",
   "metadata": {},
   "outputs": [],
   "source": []
  }
 ],
 "metadata": {
  "kernelspec": {
   "display_name": "Python 3",
   "language": "python",
   "name": "python3"
  },
  "language_info": {
   "codemirror_mode": {
    "name": "ipython",
    "version": 3
   },
   "file_extension": ".py",
   "mimetype": "text/x-python",
   "name": "python",
   "nbconvert_exporter": "python",
   "pygments_lexer": "ipython3",
   "version": "3.7.9"
  }
 },
 "nbformat": 4,
 "nbformat_minor": 5
}
