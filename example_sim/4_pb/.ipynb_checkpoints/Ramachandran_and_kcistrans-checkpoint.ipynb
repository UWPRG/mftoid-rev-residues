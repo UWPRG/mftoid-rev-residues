{
 "cells": [
  {
   "cell_type": "code",
   "execution_count": 2,
   "id": "0b92043b",
   "metadata": {},
   "outputs": [],
   "source": [
    "import plumed\n",
    "import mdtraj as md\n",
    "import numpy as np\n",
    "import matplotlib.pyplot as plt\n",
    "import matplotlib\n",
    "import networkx as nx\n",
    "matplotlib.rc('xtick', labelsize=20) \n",
    "matplotlib.rc('ytick', labelsize=20) \n",
    "matplotlib.rcParams['font.size'] = 20\n",
    "matplotlib.rcParams['figure.figsize'] = (12, 8)"
   ]
  },
  {
   "cell_type": "code",
   "execution_count": null,
   "id": "f2fea158",
   "metadata": {
    "scrolled": true
   },
   "outputs": [],
   "source": [
    "colvar_path = \"colvar_reweight.dat\"\n",
    "colvar = plumed.read_as_pandas(colvar_path) \n",
    "phi3 = colvar['phi3']\n",
    "psi2 = colvar['psi2']\n",
    "psi3 = colvar['psi3']\n",
    "phi2 = colvar['phi2']\n",
    "phi1 = colvar['phi1']\n",
    "psi1 = colvar['psi1']\n",
    "ome1 = colvar['omega1']\n",
    "ome2 = colvar['omega2']\n",
    "bias = colvar['pb.bias']\n",
    "n_res = 3 ## If you do not have 3 residues, change this\n",
    "phi_str = [\"phi\" + str(i) for i in range(1, n_res + 1)]\n",
    "psi_str = [\"psi\" + str(i) for i in range(1, n_res + 1)]\n",
    "ome_str = [\"omega\" + str(i) for i in range(1, n_res)]\n",
    "all_phi = colvar[phi_str].to_numpy()\n",
    "all_psi = colvar[psi_str].to_numpy()\n",
    "all_ome = colvar[ome_str].to_numpy()\n",
    "bias = colvar['pb.bias'].to_numpy()\n",
    "all_phi = np.where(all_phi < 0, 2*np.pi + all_phi, all_phi)\n",
    "all_psi = np.where(all_psi < 0, 2*np.pi + all_psi, all_psi)\n",
    "all_ome = np.where(all_ome < 0, 2*np.pi + all_ome, all_ome)\n",
    "\n",
    "## If you want to shift graph so that it goes from 0 to 2pi, not -pi to pi, uncomment below\n",
    "# phi2 = np.where(phi2 < 0, 2*np.pi + phi2, phi2)\n",
    "# psi2 = np.where(psi2 < 0, 2*np.pi + psi2, psi2)\n",
    "# phi3 = np.where(phi3 < 0, 2*np.pi + phi3, phi3)\n",
    "# psi3 = np.where(psi3 < 0, 2*np.pi + psi3, psi3)\n",
    "# phi1 = np.where(phi1 < 0, 2*np.pi + phi1, phi1)\n",
    "# psi1 = np.where(psi1 < 0, 2*np.pi + psi1, psi1)\n",
    "kT = 2.479\n",
    "bias_weights = np.exp(bias / kT) \n",
    "total = sum(bias_weights)\n",
    "bias_weights /= total\n",
    "bw_cis = bias_weights[abs(ome2) < np.pi / 2]\n",
    "bw_trans = bias_weights[abs(ome2) > np.pi / 2]"
   ]
  },
  {
   "cell_type": "code",
   "execution_count": null,
   "id": "11445794-3095-4be8-8b17-01f70e970495",
   "metadata": {},
   "outputs": [],
   "source": [
    "phi2_trans = phi2[abs(ome2) > np.pi / 2]\n",
    "phi2_cis = phi2[abs(ome2) < np.pi / 2]\n",
    "psi2_trans = psi2[abs(ome2) > np.pi / 2]\n",
    "psi2_cis = psi2[abs(ome2) < np.pi / 2]\n",
    "plt.scatter(phi2_cis, psi2_cis, s=0.1)\n",
    "plt.xlabel(\"$\\phi$\")\n",
    "plt.ylabel(\"$\\psi$\")\n",
    "plt.title(\"Cis Ramachandran Plot, Unweighted\")\n",
    "plt.show()\n",
    "plt.scatter(phi2_trans, psi2_trans, s=0.1)\n",
    "plt.xlabel(\"$\\phi$\")\n",
    "plt.ylabel(\"$\\psi$\")\n",
    "plt.title(\"Trans Ramachandran Plot, Unweighted\")\n",
    "plt.show()"
   ]
  },
  {
   "cell_type": "code",
   "execution_count": null,
   "id": "3244b37c",
   "metadata": {},
   "outputs": [],
   "source": [
    "probs, xedges, yedges = np.sum((np.histogram2d(phi2, psi2, bins=50, weights=bias_weights), np.histogram2d(phi1, psi1, bins=50, weights=bias_weights), np.histogram2d(phi3, psi3, bins=50, weights=bias_weights)), axis=0)\n",
    "X, Y = np.meshgrid(xedges[:-1], yedges[:-1])\n",
    "probs = probs.T\n",
    "kT = 0.59\n",
    "potential = -kT * np.log(probs)\n",
    "# Replace \"extent\" below if you make the angles from 0 to 2pi\n",
    "plt.contourf(potential - np.min(potential), levels=25, cmap=\"jet_r\", extent=[-np.pi, np.pi, -np.pi, np.pi])\n",
    "plt.title(\"Ramachandran Free Energy plot, middle angle\")\n",
    "plt.colorbar()"
   ]
  },
  {
   "cell_type": "code",
   "execution_count": null,
   "id": "b9de0aa9",
   "metadata": {},
   "outputs": [],
   "source": [
    "plt.scatter(phi2, ome2, s=1, label=\"Sampled Data\")\n",
    "plt.xlabel(\"$\\phi$\")\n",
    "plt.ylabel(\"$\\omega$\")\n",
    "plt.title(\"$\\phi$ vs $\\omega$ plot\")\n",
    "plt.show()\n",
    "plt.scatter(psi2, ome2, s=1, label=\"Sampled Data\")\n",
    "plt.xlabel(\"$\\psi$\")\n",
    "plt.ylabel(\"$\\omega$\")\n",
    "plt.title(\"$\\psi$ vs $\\omega$ plot\")\n",
    "plt.show()"
   ]
  },
  {
   "cell_type": "code",
   "execution_count": null,
   "id": "1bb5d4e5",
   "metadata": {},
   "outputs": [],
   "source": [
    "hist, bins = np.histogram(ome2, bins=50, weights=bias_weights)\n",
    "potential = -kT * np.log(hist)\n",
    "bins = bins[:-1]\n",
    "trans_potential = min(potential[np.abs(bins) > 2])\n",
    "cis_potential = min(potential[np.abs(bins) < 2])\n",
    "k_cis_trans = np.exp((trans_potential - cis_potential) / (0.001987 * 300))\n",
    "plt.plot(bins, potential)\n",
    "plt.xlabel(\"$\\omega$\")\n",
    "plt.ylabel(\"Potential (kJ/mol)\")\n",
    "plt.text(-0.9, 5, \"$K_{cis/trans} = $\" + str(round(k_cis_trans, 2)))"
   ]
  },
  {
   "cell_type": "code",
   "execution_count": null,
   "id": "a2ea5e85",
   "metadata": {},
   "outputs": [],
   "source": [
    "np.save(\"angles.npy\", np.concatenate((all_phi, all_psi, all_ome), axis=1))\n",
    "np.save(\"bias_weights.npy\", bias_weights)"
   ]
  },
  {
   "cell_type": "code",
   "execution_count": null,
   "id": "3569029b",
   "metadata": {},
   "outputs": [],
   "source": []
  }
 ],
 "metadata": {
  "kernelspec": {
   "display_name": "Python 3",
   "language": "python",
   "name": "python3"
  },
  "language_info": {
   "codemirror_mode": {
    "name": "ipython",
    "version": 3
   },
   "file_extension": ".py",
   "mimetype": "text/x-python",
   "name": "python",
   "nbconvert_exporter": "python",
   "pygments_lexer": "ipython3",
   "version": "3.11.4"
  }
 },
 "nbformat": 4,
 "nbformat_minor": 5
}
